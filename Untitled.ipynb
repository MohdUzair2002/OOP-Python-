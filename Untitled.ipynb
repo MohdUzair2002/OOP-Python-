{
 "cells": [
  {
   "cell_type": "code",
   "execution_count": 1,
   "id": "aff3c5da",
   "metadata": {},
   "outputs": [],
   "source": [
    "class Myclass:\n",
    "    x=1"
   ]
  },
  {
   "cell_type": "code",
   "execution_count": 2,
   "id": "8e4fb71e",
   "metadata": {},
   "outputs": [
    {
     "name": "stdout",
     "output_type": "stream",
     "text": [
      "1\n"
     ]
    }
   ],
   "source": [
    "object1=Myclass()\n",
    "print(object1.x)"
   ]
  },
  {
   "cell_type": "code",
   "execution_count": 3,
   "id": "d8977942",
   "metadata": {},
   "outputs": [],
   "source": [
    "#Example 2"
   ]
  },
  {
   "cell_type": "code",
   "execution_count": 14,
   "id": "10cbd089",
   "metadata": {},
   "outputs": [
    {
     "name": "stdout",
     "output_type": "stream",
     "text": [
      "Uzair\n",
      "20\n"
     ]
    }
   ],
   "source": [
    "class with_constructor:\n",
    "    def __init__ (self,name,age):\n",
    "        self.name=name\n",
    "        self.age=age\n",
    "\n",
    "obj1=with_constructor(\"Uzair\",\"20\")\n",
    "print(obj1.name)\n",
    "print(obj1.age)\n",
    "\n"
   ]
  },
  {
   "cell_type": "code",
   "execution_count": 15,
   "id": "a5f565aa",
   "metadata": {},
   "outputs": [],
   "source": [
    "# __str__ Function (used to control return of objects representing string)"
   ]
  },
  {
   "cell_type": "code",
   "execution_count": 21,
   "id": "91154def",
   "metadata": {},
   "outputs": [
    {
     "name": "stdout",
     "output_type": "stream",
     "text": [
      "the name given Uzair and the age given is 20\n"
     ]
    }
   ],
   "source": [
    "class with_str_:\n",
    "    def __init__ (self,name,age):\n",
    "        self.name=name\n",
    "        self.age=age\n",
    "    def __str__(self):\n",
    "        return f\"the name given {self.name} and the age given is {self.age}\"\n",
    "\n",
    "obj1=with_str_(\"Uzair\",\"20\")\n",
    "print(obj1)\n",
    "# print(obj1.name)\n",
    "# print(obj1.age)"
   ]
  },
  {
   "cell_type": "code",
   "execution_count": 22,
   "id": "13029172",
   "metadata": {},
   "outputs": [],
   "source": [
    "#objects method"
   ]
  },
  {
   "cell_type": "code",
   "execution_count": 26,
   "id": "fc980fa4",
   "metadata": {},
   "outputs": [
    {
     "name": "stdout",
     "output_type": "stream",
     "text": [
      "the name given Uzair and the age given is 20\n"
     ]
    }
   ],
   "source": [
    "class object_method:\n",
    "    def __init__ (self,name,age):\n",
    "        self.name=name\n",
    "        self.age=age\n",
    "    def function1(self):\n",
    "        print( f\"the name given {self.name} and the age given is {self.age}\")\n",
    "\n",
    "obj1=object_method(\"Uzair\",\"20\")\n",
    "obj1.function1()"
   ]
  },
  {
   "cell_type": "code",
   "execution_count": 27,
   "id": "b6ca46c6",
   "metadata": {},
   "outputs": [],
   "source": [
    "#self parameter(using name self is not neccessary we can use any name)"
   ]
  },
  {
   "cell_type": "code",
   "execution_count": 30,
   "id": "30505670",
   "metadata": {},
   "outputs": [
    {
     "name": "stdout",
     "output_type": "stream",
     "text": [
      "the name given Uzair and the age given is 40\n"
     ]
    }
   ],
   "source": [
    "#modyifing attributes data\n",
    "obj1.age='40'\n",
    "obj1.function1()"
   ]
  },
  {
   "cell_type": "code",
   "execution_count": 32,
   "id": "1f858080",
   "metadata": {},
   "outputs": [],
   "source": [
    "#delete objects properties and objects\n",
    "del obj1.age"
   ]
  },
  {
   "cell_type": "code",
   "execution_count": 34,
   "id": "4a48d647",
   "metadata": {},
   "outputs": [],
   "source": [
    "del obj1"
   ]
  },
  {
   "cell_type": "code",
   "execution_count": 35,
   "id": "7af46be4",
   "metadata": {},
   "outputs": [],
   "source": [
    "#if we want an emoty class for some reason we can use\"pass\"\n",
    "class pass_:\n",
    "    pass"
   ]
  },
  {
   "cell_type": "code",
   "execution_count": 38,
   "id": "2802e65b",
   "metadata": {},
   "outputs": [
    {
     "data": {
      "text/plain": [
       "<__main__.pass_ at 0x172bfc82130>"
      ]
     },
     "execution_count": 38,
     "metadata": {},
     "output_type": "execute_result"
    }
   ],
   "source": [
    "o1=pass_()\n",
    "o1"
   ]
  },
  {
   "cell_type": "code",
   "execution_count": 39,
   "id": "49875121",
   "metadata": {},
   "outputs": [],
   "source": [
    "#inheritance"
   ]
  },
  {
   "cell_type": "code",
   "execution_count": 40,
   "id": "8553c666",
   "metadata": {},
   "outputs": [],
   "source": [
    "#parent class"
   ]
  },
  {
   "cell_type": "code",
   "execution_count": 43,
   "id": "e8fa67ee",
   "metadata": {},
   "outputs": [
    {
     "name": "stdout",
     "output_type": "stream",
     "text": [
      "John Doe\n"
     ]
    }
   ],
   "source": [
    "class parent():\n",
    "    def __init__(self,fname,lname):\n",
    "        self.fname=fname\n",
    "        self.lname=lname\n",
    "    def print(self):\n",
    "        print(f\"{self.fname} {self.lname}\")\n",
    "x = parent(\"John\", \"Doe\")\n",
    "x.print()"
   ]
  },
  {
   "cell_type": "code",
   "execution_count": 46,
   "id": "6fc5d44e",
   "metadata": {},
   "outputs": [
    {
     "name": "stdout",
     "output_type": "stream",
     "text": [
      "John Doe\n"
     ]
    }
   ],
   "source": [
    "#we can use simply pass if we want to inherit all the things from parent and doesnt want to include any properties,just by passing parent class name in student class parameters\n",
    "class child(parent):\n",
    "    pass\n",
    "x = child(\"John\", \"Doe\")\n",
    "x.print()"
   ]
  },
  {
   "cell_type": "code",
   "execution_count": 49,
   "id": "0f3b0c76",
   "metadata": {},
   "outputs": [
    {
     "name": "stdout",
     "output_type": "stream",
     "text": [
      "John Doe\n"
     ]
    }
   ],
   "source": [
    "#if we want to use init func of child class\n",
    "class child(parent):\n",
    "    def __init__(self,fname,lname):\n",
    "        #to call parent class init function here to use it\n",
    "        parent.__init__(self,fname,lname)\n",
    "x = child(\"John\", \"Doe\")\n",
    "x.print()"
   ]
  },
  {
   "cell_type": "code",
   "execution_count": 50,
   "id": "6437b23c",
   "metadata": {},
   "outputs": [
    {
     "name": "stdout",
     "output_type": "stream",
     "text": [
      "John Doe\n"
     ]
    }
   ],
   "source": [
    "class child(parent):\n",
    "    def __init__(self,fname,lname):\n",
    "        #super function if I have to inherit all things in child class\n",
    "        super().__init__(fname, lname)\n",
    "        self.age = 19\n",
    "\n",
    "x = child(\"John\", \"Doe\")\n",
    "x.print()"
   ]
  },
  {
   "cell_type": "code",
   "execution_count": 52,
   "id": "3723a4c1",
   "metadata": {},
   "outputs": [
    {
     "data": {
      "text/plain": [
       "'19'"
      ]
     },
     "execution_count": 52,
     "metadata": {},
     "output_type": "execute_result"
    }
   ],
   "source": [
    "class child(parent):\n",
    "    def __init__(self,fname,lname,age):\n",
    "        #super function if I have to inherit all things in child class\n",
    "        super().__init__(fname, lname)\n",
    "        self.age = age\n",
    "\n",
    "x = child(\"John\", \"Doe\",\"19\")\n",
    "x.age"
   ]
  },
  {
   "cell_type": "code",
   "execution_count": null,
   "id": "af6d7d86",
   "metadata": {},
   "outputs": [],
   "source": []
  }
 ],
 "metadata": {
  "kernelspec": {
   "display_name": "Python 3 (ipykernel)",
   "language": "python",
   "name": "python3"
  },
  "language_info": {
   "codemirror_mode": {
    "name": "ipython",
    "version": 3
   },
   "file_extension": ".py",
   "mimetype": "text/x-python",
   "name": "python",
   "nbconvert_exporter": "python",
   "pygments_lexer": "ipython3",
   "version": "3.9.13"
  },
  "varInspector": {
   "cols": {
    "lenName": 16,
    "lenType": 16,
    "lenVar": 40
   },
   "kernels_config": {
    "python": {
     "delete_cmd_postfix": "",
     "delete_cmd_prefix": "del ",
     "library": "var_list.py",
     "varRefreshCmd": "print(var_dic_list())"
    },
    "r": {
     "delete_cmd_postfix": ") ",
     "delete_cmd_prefix": "rm(",
     "library": "var_list.r",
     "varRefreshCmd": "cat(var_dic_list()) "
    }
   },
   "types_to_exclude": [
    "module",
    "function",
    "builtin_function_or_method",
    "instance",
    "_Feature"
   ],
   "window_display": false
  }
 },
 "nbformat": 4,
 "nbformat_minor": 5
}
